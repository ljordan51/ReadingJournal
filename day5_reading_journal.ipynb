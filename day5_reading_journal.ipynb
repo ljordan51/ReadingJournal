{
 "cells": [
  {
   "cell_type": "code",
   "execution_count": null,
   "metadata": {
    "collapsed": true
   },
   "outputs": [],
   "source": [
    "# Day 5 Reading Journal\n",
    "\n",
    "This journal includes several required exercises, but it is meant to encourage active reading more generally.  You should use the journal to take detailed notes, catalog questions, and explore the content from Think Python deeply.\n",
    "\n",
    "Reading: Think Python Chapter 4\n",
    "\n",
    "**Due: Thursday, February 2 at 12 noon**\n",
    "\n"
   ]
  },
  {
   "cell_type": "markdown",
   "metadata": {},
   "source": [
    "## [Chapter 4](http://www.greenteapress.com/thinkpython2/html/thinkpython2005.html)\n",
    "\n",
    "In today's reading, you will be exploring the turtle module, which allows you to create images using turtle graphics. The turtle module is included in most Python installations, and you did a quick test with it during the Get Set assignment.\n",
    "\n",
    "### Turtle wrangling\n",
    "\n",
    "You can always run your code as separate Python scripts, but here are a few tips for mixing Turtle with Jupyter notebook:\n",
    "\n",
    " - Turtle will appear in a new GUI window, rather than inline in the notebook like typical results do\n",
    " - You will not be able to close the Turtle window unless you run `turtle.mainloop()` as the last line of your code."
   ]
  },
  {
   "cell_type": "markdown",
   "metadata": {},
   "source": [
    "### Get started\n",
    "\n",
    "Run the code in the cell below and make sure everything works. You should see brave Bob spring into the world and run forward. You can close the window when you're done by clicking on the 'X'. If this simple test doesn't work, check your Python3 install (especially if you get an `ImportError`) and ask for help."
   ]
  },
  {
   "cell_type": "code",
   "execution_count": 1,
   "metadata": {
    "collapsed": false
   },
   "outputs": [],
   "source": [
    "import turtle\n",
    "\n",
    "# Create the world, and a turtle to put in it\n",
    "bob = turtle.Turtle()\n",
    "\n",
    "# Get moving, turtle!\n",
    "bob.fd(100)\n",
    "\n",
    "# Wait for the user to close the window\n",
    "turtle.mainloop()"
   ]
  },
  {
   "cell_type": "markdown",
   "metadata": {
    "is_question": true,
    "problem": "Section 4.3"
   },
   "source": [
    "### Chapter 4.3\n",
    "Work through exercises 1-5 in Chapter 4.3, creating the `square`, `polygon`, `circle`, and `arc` functions. You can reference Allen's solutions, but please try the problems on your own first."
   ]
  },
  {
   "cell_type": "code",
   "execution_count": 9,
   "metadata": {
    "collapsed": false,
    "solution": "Section 4.3"
   },
   "outputs": [],
   "source": [
    "import turtle\n",
    "bob=turtle.Turtle()\n",
    "for i in range(4):\n",
    "    bob.fd(100)\n",
    "    bob.lt(90)\n",
    "turtle.mainloop()"
   ]
  },
  {
   "cell_type": "code",
   "execution_count": 12,
   "metadata": {
    "collapsed": false
   },
   "outputs": [],
   "source": [
    "def square(t):\n",
    "    for i in range(4):\n",
    "        t.fd(100)\n",
    "        t.lt(90)\n",
    "        \n",
    "bob=turtle.Turtle()\n",
    "square(bob)\n",
    "turtle.mainloop()"
   ]
  },
  {
   "cell_type": "code",
   "execution_count": 14,
   "metadata": {
    "collapsed": true
   },
   "outputs": [],
   "source": [
    "def square(t, length):\n",
    "    for i in range(4):\n",
    "        t.fd(length)\n",
    "        t.lt(90)\n",
    "        \n",
    "bob=turtle.Turtle()\n",
    "length=100\n",
    "square(bob,length)\n",
    "turtle.mainloop()"
   ]
  },
  {
   "cell_type": "code",
   "execution_count": 18,
   "metadata": {
    "collapsed": false
   },
   "outputs": [],
   "source": [
    "def polygon(t, length, n):\n",
    "    for i in range(n):\n",
    "        t.fd(length)\n",
    "        t.lt(360/n)\n",
    "        \n",
    "bob=turtle.Turtle()\n",
    "length=100\n",
    "sides = 6\n",
    "polygon(bob,length,sides)\n",
    "turtle.mainloop()"
   ]
  },
  {
   "cell_type": "code",
   "execution_count": 24,
   "metadata": {
    "collapsed": false
   },
   "outputs": [],
   "source": [
    "import math\n",
    "\n",
    "def circle(t,r):\n",
    "    n = 100\n",
    "    l = 2*math.pi*r/n\n",
    "    polygon(t,l,n)\n",
    "    \n",
    "sam=turtle.Turtle()\n",
    "circle(sam,30)\n",
    "turtle.mainloop()"
   ]
  },
  {
   "cell_type": "code",
   "execution_count": 25,
   "metadata": {
    "collapsed": true
   },
   "outputs": [],
   "source": [
    "import math\n",
    "\n",
    "def circle(t,r):\n",
    "    n = 100\n",
    "    l = 2*math.pi*r/n\n",
    "    polygon(t,l,n)\n",
    "    sam.fd(r)\n",
    "    for i in range(3):\n",
    "        sam.lt(90)\n",
    "        sam.fd(2*r)\n",
    "    sam.lt(90)\n",
    "    sam.fd(r)\n",
    "    \n",
    "sam=turtle.Turtle()\n",
    "circle(sam,30)\n",
    "turtle.mainloop()"
   ]
  },
  {
   "cell_type": "code",
   "execution_count": 35,
   "metadata": {
    "collapsed": false
   },
   "outputs": [],
   "source": [
    "import math\n",
    "\n",
    "def polygon(t, length, n, angle):\n",
    "    for i in range(int(n*angle/360)):\n",
    "        t.fd(length)\n",
    "        t.lt(360/n)\n",
    "\n",
    "def arc(t,r,a):\n",
    "    n = 100\n",
    "    l = 2*math.pi*r/n\n",
    "    polygon(t,l,n,a)\n",
    "    \n",
    "sam=turtle.Turtle()\n",
    "angle=270\n",
    "arc(sam,30,angle)\n",
    "turtle.mainloop()"
   ]
  },
  {
   "cell_type": "markdown",
   "metadata": {
    "is_question": true,
    "problem": "More fun"
   },
   "source": [
    "### Chapter 4.12\n",
    "#### More fun with Turtles!\n",
    "Complete at least one of Exercise 2, 3, 4, or 5. If you come up with some cool drawings you'd like to share with the rest of the class, let us know!"
   ]
  },
  {
   "cell_type": "code",
   "execution_count": 5,
   "metadata": {
    "collapsed": false,
    "solution": "More fun"
   },
   "outputs": [
    {
     "name": "stdout",
     "output_type": "stream",
     "text": [
      "0.3141592653589793\n"
     ]
    }
   ],
   "source": [
    "import math\n",
    "import turtle\n",
    "\n",
    "'''def flower(t,a,b,k):\n",
    "    oldr=a+b\n",
    "    t.fd(oldr)\n",
    "    for i in range(1,361):\n",
    "        r=a+b*math.cos(k*math.radians(1))\n",
    "        l=math.sqrt(r**2+oldr**2-2*r*oldr*math.cos(math.radians(1)))\n",
    "        theta=math.asin((math.sin(math.radians(1)/l)*r))\n",
    "        t.lt(180-math.degrees(theta))\n",
    "        t.fd(l)\n",
    "        t.rt(179-math.degrees(theta))\n",
    "        oldr=r'''\n",
    "\n",
    "def pie(t,pieces,r):\n",
    "    angle = (2*math.pi)/pieces\n",
    "    print(angle)\n",
    "    l=math.sqrt(2*(r**2-r**2*math.cos(angle)))\n",
    "    turn = math.asin((math.sin(angle)/l)*r)\n",
    "    for i in range(pieces):\n",
    "        t.fd(r)\n",
    "        t.lt(180-math.degrees(turn))\n",
    "        t.fd(l)\n",
    "        t.lt(180-math.degrees(turn))\n",
    "        t.fd(r)\n",
    "        t.rt(180)\n",
    "        \n",
    "t=turtle.Turtle()\n",
    "pie(t,20,70)\n",
    "turtle.mainloop()"
   ]
  },
  {
   "cell_type": "markdown",
   "metadata": {},
   "source": [
    "## Reading Journal feedback\n",
    "\n",
    "[Please complete this short survey](https://docs.google.com/forms/d/e/1FAIpQLScQekhUrf6YYjpfQiAAbavLIA-IJklv_PX1BWbGgxj7JPolmw/viewform?c=0&w=1)\n",
    "\n",
    "If you have any comments on this Reading Journal, feel free to leave them in the survey linked above. This could include suggestions to improve the exercises, topics you'd like to see covered in class next time, or other feedback.\n",
    "\n",
    "If you have Python questions or run into problems while completing the reading, you should post them to Piazza instead so you can get a quick response before your journal is submitted."
   ]
  },
  {
   "cell_type": "markdown",
   "metadata": {},
   "source": [
    " "
   ]
  }
 ],
 "metadata": {
  "kernelspec": {
   "display_name": "Python 3",
   "language": "python",
   "name": "python3"
  },
  "language_info": {
   "codemirror_mode": {
    "name": "ipython",
    "version": 3
   },
   "file_extension": ".py",
   "mimetype": "text/x-python",
   "name": "python",
   "nbconvert_exporter": "python",
   "pygments_lexer": "ipython3",
   "version": "3.4.3"
  }
 },
 "nbformat": 4,
 "nbformat_minor": 0
}
